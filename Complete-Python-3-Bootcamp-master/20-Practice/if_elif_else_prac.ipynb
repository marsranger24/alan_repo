{
 "cells": [
  {
   "cell_type": "code",
   "execution_count": 1,
   "metadata": {},
   "outputs": [],
   "source": [
    "#if some_condition\n",
    "#  execute code\n",
    "# elif other condition\n",
    "#   do something different\n",
    "# else:\n",
    "#   do something else"
   ]
  },
  {
   "cell_type": "code",
   "execution_count": 2,
   "metadata": {},
   "outputs": [
    {
     "name": "stdout",
     "output_type": "stream",
     "text": [
      "it's true\n"
     ]
    }
   ],
   "source": [
    "if True:\n",
    "    print(\"it's true\")"
   ]
  },
  {
   "cell_type": "code",
   "execution_count": 4,
   "metadata": {},
   "outputs": [
    {
     "name": "stdout",
     "output_type": "stream",
     "text": [
      "it's true\n"
     ]
    }
   ],
   "source": [
    "if 3>2:\n",
    "    print(\"it's true\")"
   ]
  },
  {
   "cell_type": "code",
   "execution_count": 6,
   "metadata": {},
   "outputs": [
    {
     "name": "stdout",
     "output_type": "stream",
     "text": [
      "Feed Me!\n"
     ]
    }
   ],
   "source": [
    "hungry = True\n",
    "if hungry:\n",
    "    print(\"Feed Me!\")"
   ]
  },
  {
   "cell_type": "code",
   "execution_count": 7,
   "metadata": {},
   "outputs": [
    {
     "name": "stdout",
     "output_type": "stream",
     "text": [
      "im not hungry..\n"
     ]
    }
   ],
   "source": [
    "hungry = False\n",
    "if hungry:\n",
    "    print(\"Feed Me!\")\n",
    "else:\n",
    "    print(\"im not hungry..\")"
   ]
  },
  {
   "cell_type": "code",
   "execution_count": 11,
   "metadata": {},
   "outputs": [
    {
     "name": "stdout",
     "output_type": "stream",
     "text": [
      "swim with the fishes\n"
     ]
    }
   ],
   "source": [
    "loc = 'swimming pool'\n",
    "\n",
    "if loc == 'Auto Shop':\n",
    "    print('cars are cool!')\n",
    "elif loc == 'bank':\n",
    "    print('Give me the money!')\n",
    "elif loc == 'swimming pool':\n",
    "    print('swim with the fishes')\n",
    "else:\n",
    "    print(\"I do no know much\")"
   ]
  },
  {
   "cell_type": "code",
   "execution_count": null,
   "metadata": {},
   "outputs": [],
   "source": []
  }
 ],
 "metadata": {
  "kernelspec": {
   "display_name": "Python 3",
   "language": "python",
   "name": "python3"
  },
  "language_info": {
   "codemirror_mode": {
    "name": "ipython",
    "version": 3
   },
   "file_extension": ".py",
   "mimetype": "text/x-python",
   "name": "python",
   "nbconvert_exporter": "python",
   "pygments_lexer": "ipython3",
   "version": "3.7.6"
  }
 },
 "nbformat": 4,
 "nbformat_minor": 4
}
