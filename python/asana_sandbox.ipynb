{
 "cells": [
  {
   "cell_type": "code",
   "execution_count": 108,
   "metadata": {},
   "outputs": [
    {
     "name": "stdout",
     "output_type": "stream",
     "text": [
      "{'gid': '1200293472114118', 'assignee': None, 'assignee_status': 'upcoming', 'completed': False, 'completed_at': None, 'created_at': '2021-05-05T21:52:50.355Z', 'custom_fields': [{'gid': '942619075663318', 'enabled': True, 'enum_options': [{'gid': '942619075663319', 'color': 'red', 'enabled': True, 'name': 'High', 'resource_type': 'enum_option'}, {'gid': '942619075663320', 'color': 'orange', 'enabled': True, 'name': 'Medium', 'resource_type': 'enum_option'}, {'gid': '942619075663321', 'color': 'yellow-orange', 'enabled': True, 'name': 'Low', 'resource_type': 'enum_option'}], 'enum_value': {'gid': '942619075663319', 'color': 'red', 'enabled': True, 'name': 'High', 'resource_type': 'enum_option'}, 'name': 'Priority', 'created_by': None, 'display_value': 'High', 'resource_subtype': 'enum', 'resource_type': 'custom_field', 'type': 'enum'}, {'gid': '1119364937478850', 'enabled': True, 'enum_options': [{'gid': '1119364937478851', 'color': 'yellow', 'enabled': True, 'name': 'All', 'resource_type': 'enum_option'}, {'gid': '1119364937478852', 'color': 'green', 'enabled': True, 'name': 'Chrome', 'resource_type': 'enum_option'}, {'gid': '1119364937478853', 'color': 'cool-gray', 'enabled': True, 'name': 'Safari', 'resource_type': 'enum_option'}, {'gid': '1119364937478854', 'color': 'aqua', 'enabled': True, 'name': 'IE', 'resource_type': 'enum_option'}, {'gid': '1119364937478855', 'color': 'orange', 'enabled': True, 'name': 'Firefox', 'resource_type': 'enum_option'}], 'enum_value': {'gid': '1119364937478854', 'color': 'aqua', 'enabled': True, 'name': 'IE', 'resource_type': 'enum_option'}, 'name': 'Browser', 'created_by': None, 'display_value': 'IE', 'resource_subtype': 'enum', 'resource_type': 'custom_field', 'type': 'enum'}, {'gid': '1119364937478857', 'enabled': True, 'name': 'Number of user reports', 'number_value': 9, 'precision': 0, 'created_by': None, 'display_value': '9', 'resource_subtype': 'number', 'resource_type': 'custom_field', 'type': 'number'}], 'due_at': None, 'due_on': None, 'followers': [{'gid': '812513754678134', 'name': 'Gary Hammes', 'resource_type': 'user'}, {'gid': '787418606933944', 'name': 'Alan Caro', 'resource_type': 'user'}], 'hearted': False, 'hearts': [], 'liked': False, 'likes': [], 'memberships': [{'project': {'gid': '1200293472114110', 'name': 'Test Tracking', 'resource_type': 'project'}, 'section': {'gid': '1200293472114120', 'name': 'Ready', 'resource_type': 'section'}}], 'modified_at': '2021-06-09T18:06:01.511Z', 'name': 'Test 17.1 firmware', 'notes': '', 'num_hearts': 0, 'num_likes': 0, 'parent': None, 'permalink_url': 'https://app.asana.com/0/1200293472114110/1200293472114118', 'projects': [{'gid': '1200293472114110', 'name': 'Test Tracking', 'resource_type': 'project'}], 'resource_type': 'task', 'start_on': None, 'tags': [{'gid': '1199175309692433', 'name': 'FSG LM', 'resource_type': 'tag'}], 'resource_subtype': 'default_task', 'workspace': {'gid': '501771222453641', 'name': 'ainstein.ai', 'resource_type': 'workspace'}}\n"
     ]
    }
   ],
   "source": [
    "import sys\n",
    "import os\n",
    "import json\n",
    "\n",
    "import asana\n",
    "from six import print_\n",
    "\n",
    "personal_access_token = '1/787418606933944:d3dbfc7d6312c320f06d6196175cb622'\n",
    "\n",
    "client = asana.Client.access_token(personal_access_token)\n",
    "\n",
    "# tasks = client.tasks.get_tasks({'param': 'value', 'param': 'value'}, opt_pretty=True)\n",
    "# projects = client.projects.get_projects({'param': 'value', 'param': 'value'}, opt_pretty=True)\n",
    "workspaces = client.workspaces.get_workspaces()\n",
    "# ws = client.workspaces.find_all()\n",
    "# pr = client.projects.find_all()\n",
    "\n",
    "# def user_select_option(message, options):\n",
    "#     option_lst = list(options)\n",
    "#     print_(message)\n",
    "#     for i, val in enumerate(option_lst):\n",
    "#         print_(i, ': ' + val['name'])\n",
    "#     index = int(input(\"Enter choice (default 0): \") or 0)\n",
    "#     return option_lst[index]\n",
    "\n",
    "# workspace = user_select_option(\"Please choose a workspace\", workspaces)\n",
    "\n",
    "# projects = client.projects.find_all({'workspace': workspace['gid']})\n",
    "\n",
    "# project = user_select_option(\"Please choose a project\", projects)\n",
    "\n",
    "# projects = client.projects.find_all({'workspace': workspace['gid']})\n",
    "# print(list(projects))\n",
    "\n",
    "project = client.projects.get_project('1200293472114110')\n",
    "# print(list(project))\n",
    "# 1138879739902003\n",
    "# 1200293472114110\n",
    "tasks = client.tasks.find_all({'project': project['gid']})\n",
    "# print(list(tasks))\n",
    "# tags = client.tags.find_all({'workspace': workspace['gid']})\n",
    "# print(list(tasks))\n",
    "\n",
    "# result = client.tasks.create_in_workspace(workspace['gid'],\n",
    "#                                               {'name': 'Learn to use Nunchucks',\n",
    "#                                                'notes': 'Note: This is a test task created with the python-asana client.',\n",
    "#                                                'Status': 'Blocked',\n",
    "#                                                'projects': [project['gid']]})\n",
    "\n",
    "task = client.tasks.get_task('1200293472114118')\n",
    "print(task)\n",
    "# tags = client.tags.get_tags_for_task('1200293472114118')\n",
    "# print(list(tags))\n",
    "# 1200293472114118\n",
    "# result = client.tasks.create_task(workspace['gid'],{'name': 'Learn to use Nunchucks','projects':[project['gid']])"
   ]
  },
  {
   "cell_type": "code",
   "execution_count": null,
   "metadata": {},
   "outputs": [],
   "source": []
  },
  {
   "cell_type": "code",
   "execution_count": null,
   "metadata": {},
   "outputs": [],
   "source": []
  }
 ],
 "metadata": {
  "kernelspec": {
   "display_name": "Python 3",
   "language": "python",
   "name": "python3"
  },
  "language_info": {
   "codemirror_mode": {
    "name": "ipython",
    "version": 3
   },
   "file_extension": ".py",
   "mimetype": "text/x-python",
   "name": "python",
   "nbconvert_exporter": "python",
   "pygments_lexer": "ipython3",
   "version": "3.7.4"
  }
 },
 "nbformat": 4,
 "nbformat_minor": 2
}
